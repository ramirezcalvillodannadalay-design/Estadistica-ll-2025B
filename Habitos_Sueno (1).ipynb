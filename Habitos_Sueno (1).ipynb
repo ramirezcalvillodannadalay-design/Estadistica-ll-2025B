{
 "cells": [
  {
   "cell_type": "markdown",
   "id": "0e4d46c1",
   "metadata": {},
   "source": [
    "# Proyecto de Estadística 2\n",
    "## Tema: Hábitos de sueño en estudiantes universitarios"
   ]
  },
  {
   "cell_type": "markdown",
   "id": "26f44df8",
   "metadata": {},
   "source": [
    "## 1. Introducción\n",
    "El sueño es una necesidad biológica fundamental para el correcto funcionamiento físico y mental. En los estudiantes universitarios, la falta de sueño o los malos hábitos relacionados pueden impactar directamente en su rendimiento académico, concentración y bienestar general. En este proyecto se analizan los hábitos de sueño de un grupo de estudiantes y su relación con el desempeño académico."
   ]
  },
  {
   "cell_type": "markdown",
   "id": "e1feb45e",
   "metadata": {},
   "source": [
    "## 2. Hipótesis\n",
    "**Hipótesis nula (H0):** No existe relación significativa entre las horas de sueño y el rendimiento académico.\n",
    "\n",
    "**Hipótesis alternativa (H1):** Existe una relación significativa entre las horas de sueño y el rendimiento académico."
   ]
  },
  {
   "cell_type": "markdown",
   "id": "f5ee06c3",
   "metadata": {},
   "source": [
    "## 3. Marco Teórico\n",
    "Distintos estudios han demostrado que el sueño adecuado mejora la memoria, la consolidación de información y la concentración en estudiantes. Dormir menos de 6 horas de manera crónica se ha asociado con un menor rendimiento académico, mayor estrés y dificultades cognitivas. Por otro lado, dormir entre 7 y 9 horas es considerado óptimo para el desempeño académico."
   ]
  },
  {
   "cell_type": "markdown",
   "id": "0ec5c5c0",
   "metadata": {},
   "source": [
    "## 4. Metodología\n",
    "- **Tipo de datos:** Datos simulados representando estudiantes universitarios.\n",
    "- **Muestra:** 100 estudiantes.\n",
    "- **Variables:**\n",
    "    - Horas de sueño (promedio por día)\n",
    "    - Promedio académico\n",
    "    - Uso de pantallas antes de dormir (escala 0 a 3)\n",
    "- **Métodos estadísticos:**\n",
    "    - Tablas de frecuencia y estadísticas descriptivas\n",
    "    - Gráficas de distribución y dispersión\n",
    "    - Correlación de Pearson\n",
    "    - Prueba de hipótesis"
   ]
  },
  {
   "cell_type": "code",
   "execution_count": null,
   "id": "e3838ac6",
   "metadata": {},
   "outputs": [],
   "source": [
    "\n",
    "import pandas as pd\n",
    "import numpy as np\n",
    "import matplotlib.pyplot as plt\n",
    "import seaborn as sns\n",
    "from scipy import stats\n",
    "\n",
    "# Generar datos simulados\n",
    "np.random.seed(42)\n",
    "n = 100\n",
    "\n",
    "data = pd.DataFrame({\n",
    "    \"Horas_Sueno\": np.random.normal(6.5, 1.5, n).round(1),\n",
    "    \"Promedio_Academico\": np.random.normal(80, 5, n).round(1),\n",
    "    \"Uso_Pantallas\": np.random.randint(0, 4, n)  # 0=nunca, 3=siempre\n",
    "})\n",
    "\n",
    "data.head()\n"
   ]
  },
  {
   "cell_type": "code",
   "execution_count": null,
   "id": "a0f61bb2",
   "metadata": {},
   "outputs": [],
   "source": [
    "\n",
    "# Estadísticas descriptivas\n",
    "data.describe()\n"
   ]
  },
  {
   "cell_type": "code",
   "execution_count": null,
   "id": "2fd77c0a",
   "metadata": {},
   "outputs": [],
   "source": [
    "\n",
    "# Histograma de horas de sueño\n",
    "plt.figure(figsize=(6,4))\n",
    "sns.histplot(data[\"Horas_Sueno\"], bins=10, kde=True)\n",
    "plt.title(\"Distribución de horas de sueño\")\n",
    "plt.xlabel(\"Horas de sueño\")\n",
    "plt.ylabel(\"Frecuencia\")\n",
    "plt.show()\n",
    "\n",
    "# Dispersión horas de sueño vs promedio académico\n",
    "plt.figure(figsize=(6,4))\n",
    "sns.scatterplot(x=\"Horas_Sueno\", y=\"Promedio_Academico\", data=data)\n",
    "plt.title(\"Relación entre horas de sueño y promedio académico\")\n",
    "plt.xlabel(\"Horas de sueño\")\n",
    "plt.ylabel(\"Promedio académico\")\n",
    "plt.show()\n"
   ]
  },
  {
   "cell_type": "code",
   "execution_count": null,
   "id": "354ae84d",
   "metadata": {},
   "outputs": [],
   "source": [
    "\n",
    "# Correlación de Pearson y prueba de hipótesis\n",
    "corr, p_value = stats.pearsonr(data[\"Horas_Sueno\"], data[\"Promedio_Academico\"])\n",
    "print(f\"Correlación: {corr:.2f}, p-valor: {p_value:.4f}\")\n",
    "\n",
    "if p_value < 0.05:\n",
    "    print(\"Existe una relación estadísticamente significativa.\")\n",
    "else:\n",
    "    print(\"No hay evidencia de relación significativa.\")\n"
   ]
  },
  {
   "cell_type": "markdown",
   "id": "64fa7769",
   "metadata": {},
   "source": [
    "## 6. Conclusión\n",
    "Los resultados permiten analizar si existe una relación entre las horas de sueño y el rendimiento académico. En caso de encontrarse significancia estadística, se podría recomendar fomentar mejores hábitos de sueño para mejorar el desempeño académico en los estudiantes."
   ]
  }
 ],
 "metadata": {},
 "nbformat": 4,
 "nbformat_minor": 5
}